{
 "cells": [
  {
   "cell_type": "markdown",
   "id": "204bee0e",
   "metadata": {},
   "source": [
    "#### Павел исаенко БПИ20-02\n",
    "\n",
    "# Практическая работа 1\n",
    "\n",
    "## Цель: \n",
    "+ Знакомство и получение навыков работы в среде Jupyter, \n",
    "+ Знакомоство с базовыми операцими над наборами данных с помощью Numpy и Pandas"
   ]
  },
  {
   "cell_type": "markdown",
   "id": "42b9bec7",
   "metadata": {},
   "source": [
    "## Ход работы:\n",
    "### 1. Набор данных\n",
    "Загрузил набор данных с [рейтингами аниме](https://www.kaggle.com/datasets/CooperUnion/anime-recommendations-database). Этот датасет является одним из предложенных в практической работе №1."
   ]
  },
  {
   "cell_type": "markdown",
   "id": "ba390e7a",
   "metadata": {},
   "source": [
    "### 2. Jupyter\n",
    "\n",
    "#### Создание наборов  Numpy/Pandas\n",
    "1. Создал свои наборы данных Numpy и Pandas (также импортировав готовые)"
   ]
  },
  {
   "cell_type": "code",
   "execution_count": null,
   "id": "c6b55b23",
   "metadata": {},
   "outputs": [],
   "source": [
    "from sklearn.datasets import load_wine\n",
    "from pprint import pprint\n",
    "wine = load_wine()\n",
    "pprint(wine)"
   ]
  },
  {
   "cell_type": "markdown",
   "id": "164ed0bd",
   "metadata": {},
   "source": [
    "*Для начала импортируем нужный датасет из sklearn*"
   ]
  },
  {
   "cell_type": "code",
   "execution_count": null,
   "id": "9bca8472",
   "metadata": {},
   "outputs": [],
   "source": [
    "my_list = list(range(1, 33, 3))\n",
    "my_list"
   ]
  },
  {
   "cell_type": "markdown",
   "id": "3fd743f3",
   "metadata": {},
   "source": [
    "*Теперь создадим список чисел 1..33 с шагом в 3*"
   ]
  },
  {
   "cell_type": "code",
   "execution_count": null,
   "id": "4fdc75d2",
   "metadata": {},
   "outputs": [],
   "source": [
    "import numpy as np"
   ]
  },
  {
   "cell_type": "markdown",
   "id": "ef193ee8",
   "metadata": {},
   "source": [
    "*Импортируем Numpy*"
   ]
  },
  {
   "cell_type": "code",
   "execution_count": null,
   "id": "dc895d81",
   "metadata": {},
   "outputs": [],
   "source": [
    "my_np_list = np.array(my_list)\n",
    "print (my_np_list)\n",
    "print (type(my_np_list))"
   ]
  },
  {
   "cell_type": "markdown",
   "id": "226a11a8",
   "metadata": {},
   "source": [
    "*Создадим из списка переменную **ndarray***"
   ]
  },
  {
   "cell_type": "code",
   "execution_count": null,
   "id": "70a8e385",
   "metadata": {},
   "outputs": [],
   "source": [
    "import pandas as p"
   ]
  },
  {
   "cell_type": "markdown",
   "id": "9e16918a",
   "metadata": {},
   "source": [
    "*Здесь был импортирован Pandas*"
   ]
  },
  {
   "cell_type": "code",
   "execution_count": null,
   "id": "eff5f5c8",
   "metadata": {
    "scrolled": true
   },
   "outputs": [],
   "source": [
    "pupils = p.DataFrame([['Petrenko',7,13],['Sedych',5,2],['Shlapak',9,17]],\n",
    "                     columns = [\"SndName\", \"Class\", \"SchoolNum\"])\n",
    "pupils"
   ]
  },
  {
   "cell_type": "markdown",
   "id": "57fecb8a",
   "metadata": {},
   "source": [
    "*Создал свой датасет с помощью Pandas*"
   ]
  },
  {
   "cell_type": "code",
   "execution_count": null,
   "id": "6ca9139d",
   "metadata": {},
   "outputs": [],
   "source": [
    "anime_ds = p.read_csv( \"DataSet/anime.csv\")\n",
    "rating_ds = p.read_csv(\"DataSet/rating.csv\")\n",
    "\n",
    "anime_ds"
   ]
  },
  {
   "cell_type": "markdown",
   "id": "cef28f27",
   "metadata": {},
   "source": [
    "*Импортирую датасеты из **.csv** файлов*"
   ]
  },
  {
   "cell_type": "markdown",
   "id": "30d6bf83",
   "metadata": {},
   "source": [
    "2. Техническая структура набора данных\n",
    "\n",
    "Не очень понятно, что имеется ввиду под технической структурой\n",
    "> Уметь показать и объяснить теническую структуру набора данных"
   ]
  },
  {
   "cell_type": "code",
   "execution_count": null,
   "id": "9ee4f4ac",
   "metadata": {},
   "outputs": [],
   "source": [
    "print (wine.keys())"
   ]
  },
  {
   "cell_type": "markdown",
   "id": "ba2c445a",
   "metadata": {},
   "source": [
    "*Посмотрим какой набор ключей присутствует в датасете из **sklearn***"
   ]
  },
  {
   "cell_type": "code",
   "execution_count": null,
   "id": "fd8e5e1d",
   "metadata": {},
   "outputs": [],
   "source": [
    "for iterat in wine:\n",
    "    print(iterat, \"--\", type(wine[iterat]))"
   ]
  },
  {
   "cell_type": "markdown",
   "id": "0c2eb98b",
   "metadata": {},
   "source": [
    "*Соответствие ключей типам, которые хранятся в них*"
   ]
  },
  {
   "cell_type": "code",
   "execution_count": null,
   "id": "e95632b1",
   "metadata": {},
   "outputs": [],
   "source": [
    "anime_ds.columns"
   ]
  },
  {
   "cell_type": "code",
   "execution_count": null,
   "id": "e31fafca",
   "metadata": {},
   "outputs": [],
   "source": [
    "rating_ds.columns"
   ]
  },
  {
   "cell_type": "markdown",
   "id": "7ec28e58",
   "metadata": {},
   "source": [
    "*Набор столбцов, используемых в таблицах датасета для **Pandas***"
   ]
  },
  {
   "cell_type": "code",
   "execution_count": null,
   "id": "1860d61d",
   "metadata": {},
   "outputs": [],
   "source": [
    "anime_ds.info()"
   ]
  },
  {
   "cell_type": "code",
   "execution_count": null,
   "id": "c1de5874",
   "metadata": {},
   "outputs": [],
   "source": [
    "rating_ds.info()"
   ]
  },
  {
   "cell_type": "code",
   "execution_count": null,
   "id": "05170b31",
   "metadata": {},
   "outputs": [],
   "source": [
    "anime_ds.genre.unique()"
   ]
  },
  {
   "cell_type": "code",
   "execution_count": null,
   "id": "38bc9f91",
   "metadata": {},
   "outputs": [],
   "source": [
    "len(anime_ds.genre.unique())"
   ]
  },
  {
   "cell_type": "code",
   "execution_count": null,
   "id": "d5565ea2",
   "metadata": {},
   "outputs": [],
   "source": [
    "len(anime_ds.genre)"
   ]
  },
  {
   "cell_type": "markdown",
   "id": "d9c50815",
   "metadata": {},
   "source": [
    "*Посмотрел техническую структуру датасета*\n",
    "\n",
    "Как видно, в данном датасете, из-за того что поле **genre** является строковым, комбинации жанров в нем хранятся ввиде единой строки, что при поиске не даёт простым \n",
    "```anime_ds.genre.unique()``` \n",
    "отдельных наименований жанров"
   ]
  },
  {
   "cell_type": "code",
   "execution_count": null,
   "id": "994d59aa",
   "metadata": {},
   "outputs": [],
   "source": [
    "anime_ds[anime_ds.type.isnull()]"
   ]
  },
  {
   "cell_type": "markdown",
   "id": "2729d705",
   "metadata": {},
   "source": [
    "Из результата выполнения кода выше аидно, что в датасете присутствуют пустые поля"
   ]
  },
  {
   "cell_type": "code",
   "execution_count": null,
   "id": "8d6bacc7",
   "metadata": {},
   "outputs": [],
   "source": [
    "anime_ds.iloc[lambda a: a.index % 3 == 2, :4] "
   ]
  },
  {
   "cell_type": "markdown",
   "id": "4bdd7756",
   "metadata": {},
   "source": [
    "Здесь была использована лямбда-функция для выборки каждой записи с индексом равным 2 после взятия остатка от деления его на 3"
   ]
  },
  {
   "cell_type": "code",
   "execution_count": null,
   "id": "36b0d2fa",
   "metadata": {},
   "outputs": [],
   "source": [
    "anime_ds[anime_ds.type.isin([\"TV\"]) == True].iloc[lambda a: a.index % 3 == 2, :]"
   ]
  },
  {
   "cell_type": "markdown",
   "id": "28240057",
   "metadata": {},
   "source": [
    "А здесь к предыдущему условию добавлено также условие, при котором поле type должно равняться \"TV\""
   ]
  },
  {
   "cell_type": "code",
   "execution_count": null,
   "id": "5a797834",
   "metadata": {
    "scrolled": false
   },
   "outputs": [],
   "source": [
    "anime_ds[anime_ds.type.isin([\"TV\"]) == True].iloc[lambda a: a.index % 3 == 2, :5].sort_values(by=[\"episodes\"], ascending = [True])"
   ]
  },
  {
   "cell_type": "markdown",
   "id": "90b20656",
   "metadata": {},
   "source": [
    "*Здесь была добавлена сортировка по количеству эпизодов (по возрастанию)*"
   ]
  },
  {
   "cell_type": "code",
   "execution_count": null,
   "id": "099a506d",
   "metadata": {},
   "outputs": [],
   "source": [
    "anime_ds[anime_ds.type.isin([\"TV\"]) == True].iloc[lambda a: a.index % 3 == 2, :5].sort_values(by=[\"episodes\"], ascending = [True]).groupby([\"genre\"]).count()"
   ]
  },
  {
   "cell_type": "markdown",
   "id": "479684c9",
   "metadata": {},
   "source": [
    "*Отсортированные данные сгрупированы по комбинациям жанров*"
   ]
  },
  {
   "cell_type": "markdown",
   "id": "e67a6803",
   "metadata": {},
   "source": [
    "#### Объединение\n",
    "У нас есть две таблицы: **anime_ds** и **rating_ds**.\n",
    "\n",
    "Нам нужна третья общая."
   ]
  },
  {
   "cell_type": "code",
   "execution_count": null,
   "id": "9e1d8432",
   "metadata": {},
   "outputs": [],
   "source": [
    "final_ds = anime_ds.merge(rating_ds, how = \"inner\", left_on = \"anime_id\", right_on=\"anime_id\")\n",
    "final_ds"
   ]
  },
  {
   "cell_type": "code",
   "execution_count": null,
   "id": "bb20a8d6",
   "metadata": {},
   "outputs": [],
   "source": [
    "final_ds.pivot_table(index = [\"anime_id\", \"name\"], aggfunc={'user_id' : \"count\"}).sort_values(by=[\"user_id\"], ascending = [False])"
   ]
  },
  {
   "cell_type": "markdown",
   "id": "9d423fcf",
   "metadata": {},
   "source": [
    "*Привел сводную таблицу в вид, где показаны тайтлы с большим количеством голосов*"
   ]
  },
  {
   "cell_type": "markdown",
   "id": "014f8cf0",
   "metadata": {},
   "source": [
    "Про опечатки:\n",
    "    было замечено в колонке **name**"
   ]
  }
 ],
 "metadata": {
  "kernelspec": {
   "display_name": "Python 3 (ipykernel)",
   "language": "python",
   "name": "python3"
  },
  "language_info": {
   "codemirror_mode": {
    "name": "ipython",
    "version": 3
   },
   "file_extension": ".py",
   "mimetype": "text/x-python",
   "name": "python",
   "nbconvert_exporter": "python",
   "pygments_lexer": "ipython3",
   "version": "3.11.1"
  }
 },
 "nbformat": 4,
 "nbformat_minor": 5
}
